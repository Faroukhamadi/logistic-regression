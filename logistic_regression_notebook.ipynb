{
 "cells": [
  {
   "attachments": {},
   "cell_type": "markdown",
   "metadata": {},
   "source": [
    "# Logistic Regression"
   ]
  },
  {
   "attachments": {},
   "cell_type": "markdown",
   "metadata": {},
   "source": [
    "### Newton's Method"
   ]
  },
  {
   "attachments": {},
   "cell_type": "markdown",
   "metadata": {},
   "source": [
    "Newton's method is commonly used with logistic regression to minimize the cost function $F(\\theta)$. Let's say you Have a function $F$ and you want to find some $\\theta$ such that $ F^{'}(\\theta) = 0 $\n",
    "\n",
    "*Note*: **If the number of parameters is not that big use Newton's method because it is faster to the optimal solution else use Gradient Descent**\n",
    "\n",
    "Pros of Newton's method:\n",
    "- It takes large jumps to reach the solution so it takes less iterations\n",
    "- well suited for small problems\n",
    "\n",
    "Cons of Newton's method:\n",
    "- Calculates the *Hessian* of a matrix so it's more computationally heavy\n",
    "- Calculates the inverse of the Hessian matrix which takes a lot of time\n",
    "- Ill suited for large problems\n",
    "\n",
    "##### These are equations used to train the model using logistic regression with Newton's method as the solver\n",
    "\n",
    "$$\n",
    "h_{\\theta}(x) = \\dfrac{1}{1 + e^{-\\theta^{T}X}}   \n",
    "$$\n",
    "\n",
    "$$\n",
    "H = \\dfrac{1}{m} \\cdot [X^{T} \\cdot h_{\\theta}(x) \\cdot (1 - h_{\\theta}(x))] \\cdot X\n",
    "$$\n",
    "\n",
    "$$\n",
    "\\nabla_{\\theta} J(\\theta) = \\dfrac{1}{m} \\cdot X^{T}(h_{\\theta}(x) - y)\n",
    "$$\n",
    "\n",
    "\n",
    "$$\n",
    "\\nabla_{\\theta} J(\\theta) = \\dfrac{1}{m} \\cdot X^{T}(h_{\\theta}(x) - y)\n",
    "$$\n",
    "\n",
    "\n",
    "$$\n",
    "\\theta^{t+1} := \\theta^{t} + H^{-1} \\cdot \\nabla_{\\theta} J(\\theta) \n",
    "$$"
   ]
  }
 ],
 "metadata": {
  "kernelspec": {
   "display_name": "Python 3",
   "language": "python",
   "name": "python3"
  },
  "language_info": {
   "codemirror_mode": {
    "name": "ipython",
    "version": 3
   },
   "file_extension": ".py",
   "mimetype": "text/x-python",
   "name": "python",
   "nbconvert_exporter": "python",
   "pygments_lexer": "ipython3",
   "version": "3.10.6"
  },
  "orig_nbformat": 4,
  "vscode": {
   "interpreter": {
    "hash": "916dbcbb3f70747c44a77c7bcd40155683ae19c65e1c03b4aa3499c5328201f1"
   }
  }
 },
 "nbformat": 4,
 "nbformat_minor": 2
}
